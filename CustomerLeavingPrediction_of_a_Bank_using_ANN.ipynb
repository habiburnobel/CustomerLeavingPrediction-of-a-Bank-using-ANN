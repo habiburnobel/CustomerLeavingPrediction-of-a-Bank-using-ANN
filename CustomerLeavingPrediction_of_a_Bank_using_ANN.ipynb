{
  "nbformat": 4,
  "nbformat_minor": 0,
  "metadata": {
    "colab": {
      "name": "CustomerLeavingPrediction-of-a-Bank-using-ANN.ipynb",
      "provenance": []
    },
    "kernelspec": {
      "name": "python3",
      "display_name": "Python 3"
    }
  },
  "cells": [
    {
      "cell_type": "markdown",
      "metadata": {
        "id": "JbX0xWxFbYWo",
        "colab_type": "text"
      },
      "source": [
        "**Part 1 - Data Preprocessing**"
      ]
    },
    {
      "cell_type": "markdown",
      "metadata": {
        "id": "QIMN9UwjXNXv",
        "colab_type": "text"
      },
      "source": [
        "**Import Libraries**"
      ]
    },
    {
      "cell_type": "code",
      "metadata": {
        "id": "pDVmnFqOXb-l",
        "colab_type": "code",
        "colab": {}
      },
      "source": [
        "import numpy as np\n",
        "import pandas as pd\n",
        "import matplotlib.pyplot as plt"
      ],
      "execution_count": 1,
      "outputs": []
    },
    {
      "cell_type": "markdown",
      "metadata": {
        "id": "O3XFpqJWXgjj",
        "colab_type": "text"
      },
      "source": [
        "**Import Dataset**"
      ]
    },
    {
      "cell_type": "code",
      "metadata": {
        "id": "vxUCIpO-XlZC",
        "colab_type": "code",
        "colab": {}
      },
      "source": [
        "dataset = pd.read_csv('Churn_Modelling.csv')\n",
        "X = dataset.iloc[ : , 3:13].values\n",
        "y = dataset.iloc[ : , 13].values"
      ],
      "execution_count": 2,
      "outputs": []
    },
    {
      "cell_type": "markdown",
      "metadata": {
        "id": "C-5FvM5TXxfi",
        "colab_type": "text"
      },
      "source": [
        "**Encode Catagorical Data**"
      ]
    },
    {
      "cell_type": "markdown",
      "metadata": {
        "id": "zY8NkzOqX8HI",
        "colab_type": "text"
      },
      "source": [
        "**encode independent catagorical data**"
      ]
    },
    {
      "cell_type": "code",
      "metadata": {
        "id": "9o73mSFrYAKd",
        "colab_type": "code",
        "colab": {
          "base_uri": "https://localhost:8080/",
          "height": 136
        },
        "outputId": "878f54db-132f-442b-f78d-3ef78fbfa51e"
      },
      "source": [
        "from sklearn.preprocessing import LabelEncoder,OneHotEncoder\n",
        "\n",
        "#there is 2 column to encode, we took them individually by\n",
        "#labelencoder_X_1 and labelencoder_X_2 \n",
        "\n",
        "labelencoder_X_1 = LabelEncoder()\n",
        "X[:,1] = labelencoder_X_1.fit_transform(X[:,1])\n",
        "labelencoder_X_2 = LabelEncoder()\n",
        "X[:,2] = labelencoder_X_2.fit_transform(X[:,2])\n",
        "\n",
        "#avoid dummy variable trap\n",
        "#apply onehotencoder on country, because gender will not create a dummy variable trap\n",
        "#because it contains only 2 catagory where country contains 3\n",
        "\n",
        "from sklearn.compose import ColumnTransformer\n",
        "ct = ColumnTransformer(transformers = [('endoding' , OneHotEncoder(), [1])] , remainder = 'passthrough')\n",
        "X = np.array(ct.fit_transform(X))\n",
        "print(X)"
      ],
      "execution_count": 3,
      "outputs": [
        {
          "output_type": "stream",
          "text": [
            "[[1.0 0.0 0.0 ... 1 1 101348.88]\n",
            " [0.0 0.0 1.0 ... 0 1 112542.58]\n",
            " [1.0 0.0 0.0 ... 1 0 113931.57]\n",
            " ...\n",
            " [1.0 0.0 0.0 ... 0 1 42085.58]\n",
            " [0.0 1.0 0.0 ... 1 0 92888.52]\n",
            " [1.0 0.0 0.0 ... 1 0 38190.78]]\n"
          ],
          "name": "stdout"
        }
      ]
    },
    {
      "cell_type": "markdown",
      "metadata": {
        "id": "V8wl8OrYYXGn",
        "colab_type": "text"
      },
      "source": [
        "**FeatureScaling**"
      ]
    },
    {
      "cell_type": "code",
      "metadata": {
        "id": "27hFaqAGYZqa",
        "colab_type": "code",
        "colab": {}
      },
      "source": [
        "from sklearn.preprocessing import StandardScaler\n",
        "sc = StandardScaler()\n",
        "X = sc.fit_transform(X)"
      ],
      "execution_count": 4,
      "outputs": []
    },
    {
      "cell_type": "markdown",
      "metadata": {
        "id": "pCRAh6OKYcf6",
        "colab_type": "text"
      },
      "source": [
        "**Splitting dataset into train and test**"
      ]
    },
    {
      "cell_type": "code",
      "metadata": {
        "id": "65NzhMhOYfoy",
        "colab_type": "code",
        "colab": {}
      },
      "source": [
        "from sklearn.model_selection import train_test_split\n",
        "X_train, X_test, y_train, y_test = train_test_split(X, y, test_size = 0.2, random_state = 1)"
      ],
      "execution_count": 5,
      "outputs": []
    },
    {
      "cell_type": "markdown",
      "metadata": {
        "id": "hVT9vDlpYjD0",
        "colab_type": "text"
      },
      "source": [
        "**Part 2- Make ANN**"
      ]
    },
    {
      "cell_type": "markdown",
      "metadata": {
        "id": "6cn4WdZQYpzW",
        "colab_type": "text"
      },
      "source": [
        "**Import keras libraries and packages**"
      ]
    },
    {
      "cell_type": "code",
      "metadata": {
        "id": "6wPR7H4BYseI",
        "colab_type": "code",
        "colab": {}
      },
      "source": [
        "import keras\n",
        "from keras.models import Sequential\n",
        "from keras.layers import Dense"
      ],
      "execution_count": 6,
      "outputs": []
    },
    {
      "cell_type": "markdown",
      "metadata": {
        "id": "vvb-n8liYvU-",
        "colab_type": "text"
      },
      "source": [
        "**Initializing ANN**"
      ]
    },
    {
      "cell_type": "code",
      "metadata": {
        "id": "KfQx7I3lYx2d",
        "colab_type": "code",
        "colab": {}
      },
      "source": [
        "classifier = Sequential()"
      ],
      "execution_count": 7,
      "outputs": []
    },
    {
      "cell_type": "markdown",
      "metadata": {
        "id": "bPctx3u2Y0le",
        "colab_type": "text"
      },
      "source": [
        "**Adding input layer and first hidden layer**"
      ]
    },
    {
      "cell_type": "code",
      "metadata": {
        "id": "R_2keu9OY3hJ",
        "colab_type": "code",
        "colab": {}
      },
      "source": [
        "classifier.add(Dense(6, kernel_initializer='uniform', activation = 'relu', input_dim = 12))"
      ],
      "execution_count": 15,
      "outputs": []
    },
    {
      "cell_type": "markdown",
      "metadata": {
        "id": "nEsYYmGXZ2-5",
        "colab_type": "text"
      },
      "source": [
        "**Adding 2nd hidden layer**"
      ]
    },
    {
      "cell_type": "code",
      "metadata": {
        "id": "LroNgaKSZ6pU",
        "colab_type": "code",
        "colab": {}
      },
      "source": [
        "classifier.add(Dense(6, kernel_initializer='uniform', activation = 'relu'))"
      ],
      "execution_count": 16,
      "outputs": []
    },
    {
      "cell_type": "markdown",
      "metadata": {
        "id": "aKnoVpT7aByk",
        "colab_type": "text"
      },
      "source": [
        "**Adding output layer**"
      ]
    },
    {
      "cell_type": "code",
      "metadata": {
        "id": "jCY_WGjAaCq5",
        "colab_type": "code",
        "colab": {}
      },
      "source": [
        "classifier.add(Dense(1, kernel_initializer='uniform', activation = 'sigmoid'))"
      ],
      "execution_count": 19,
      "outputs": []
    },
    {
      "cell_type": "markdown",
      "metadata": {
        "id": "II2-yvIwaNn5",
        "colab_type": "text"
      },
      "source": [
        "**Compiling the ANN**"
      ]
    },
    {
      "cell_type": "code",
      "metadata": {
        "id": "Sm4I2pQVaOng",
        "colab_type": "code",
        "colab": {}
      },
      "source": [
        "classifier.compile(optimizer = 'adam', loss = 'binary_crossentropy', metrics = ['accuracy'])"
      ],
      "execution_count": 20,
      "outputs": []
    },
    {
      "cell_type": "markdown",
      "metadata": {
        "id": "_uFdrOroaThD",
        "colab_type": "text"
      },
      "source": [
        "**Fitting the ANN into Training Set**"
      ]
    },
    {
      "cell_type": "code",
      "metadata": {
        "id": "7sTJJ1uSaXO-",
        "colab_type": "code",
        "colab": {
          "base_uri": "https://localhost:8080/",
          "height": 1000
        },
        "outputId": "c30d5c29-f0a2-4e4a-c682-f3b194767db7"
      },
      "source": [
        "classifier.fit(X_train, y_train, batch_size = 5, epochs = 100)"
      ],
      "execution_count": 21,
      "outputs": [
        {
          "output_type": "stream",
          "text": [
            "Epoch 1/100\n",
            "1600/1600 [==============================] - 1s 886us/step - loss: 0.4636 - accuracy: 0.7972\n",
            "Epoch 2/100\n",
            "1600/1600 [==============================] - 1s 922us/step - loss: 0.4239 - accuracy: 0.8019\n",
            "Epoch 3/100\n",
            "1600/1600 [==============================] - 1s 873us/step - loss: 0.4191 - accuracy: 0.8248\n",
            "Epoch 4/100\n",
            "1600/1600 [==============================] - 1s 881us/step - loss: 0.4158 - accuracy: 0.8310\n",
            "Epoch 5/100\n",
            "1600/1600 [==============================] - 1s 883us/step - loss: 0.4142 - accuracy: 0.8319\n",
            "Epoch 6/100\n",
            "1600/1600 [==============================] - 1s 899us/step - loss: 0.4125 - accuracy: 0.8349\n",
            "Epoch 7/100\n",
            "1600/1600 [==============================] - 1s 880us/step - loss: 0.4103 - accuracy: 0.8342\n",
            "Epoch 8/100\n",
            "1600/1600 [==============================] - 1s 908us/step - loss: 0.4097 - accuracy: 0.8344\n",
            "Epoch 9/100\n",
            "1600/1600 [==============================] - 1s 896us/step - loss: 0.4089 - accuracy: 0.8357\n",
            "Epoch 10/100\n",
            "1600/1600 [==============================] - 1s 870us/step - loss: 0.4083 - accuracy: 0.8341\n",
            "Epoch 11/100\n",
            "1600/1600 [==============================] - 1s 873us/step - loss: 0.4075 - accuracy: 0.8353\n",
            "Epoch 12/100\n",
            "1600/1600 [==============================] - 1s 921us/step - loss: 0.4071 - accuracy: 0.8353\n",
            "Epoch 13/100\n",
            "1600/1600 [==============================] - 1s 867us/step - loss: 0.4065 - accuracy: 0.8372\n",
            "Epoch 14/100\n",
            "1600/1600 [==============================] - 1s 879us/step - loss: 0.4059 - accuracy: 0.8353\n",
            "Epoch 15/100\n",
            "1600/1600 [==============================] - 1s 887us/step - loss: 0.4054 - accuracy: 0.8351\n",
            "Epoch 16/100\n",
            "1600/1600 [==============================] - 1s 897us/step - loss: 0.4053 - accuracy: 0.8349\n",
            "Epoch 17/100\n",
            "1600/1600 [==============================] - 1s 923us/step - loss: 0.4052 - accuracy: 0.8375\n",
            "Epoch 18/100\n",
            "1600/1600 [==============================] - 1s 885us/step - loss: 0.4046 - accuracy: 0.8355\n",
            "Epoch 19/100\n",
            "1600/1600 [==============================] - 1s 900us/step - loss: 0.4044 - accuracy: 0.8338\n",
            "Epoch 20/100\n",
            "1600/1600 [==============================] - 2s 1ms/step - loss: 0.4041 - accuracy: 0.8350\n",
            "Epoch 21/100\n",
            "1600/1600 [==============================] - 2s 1ms/step - loss: 0.4037 - accuracy: 0.8360\n",
            "Epoch 22/100\n",
            "1600/1600 [==============================] - 2s 1ms/step - loss: 0.4037 - accuracy: 0.8339\n",
            "Epoch 23/100\n",
            "1600/1600 [==============================] - 2s 1ms/step - loss: 0.4037 - accuracy: 0.8344\n",
            "Epoch 24/100\n",
            "1600/1600 [==============================] - 2s 1ms/step - loss: 0.4036 - accuracy: 0.8345\n",
            "Epoch 25/100\n",
            "1600/1600 [==============================] - 2s 1ms/step - loss: 0.4028 - accuracy: 0.8359\n",
            "Epoch 26/100\n",
            "1600/1600 [==============================] - 2s 1ms/step - loss: 0.4028 - accuracy: 0.8353\n",
            "Epoch 27/100\n",
            "1600/1600 [==============================] - 1s 897us/step - loss: 0.4026 - accuracy: 0.8356\n",
            "Epoch 28/100\n",
            "1600/1600 [==============================] - 1s 887us/step - loss: 0.4022 - accuracy: 0.8349\n",
            "Epoch 29/100\n",
            "1600/1600 [==============================] - 1s 932us/step - loss: 0.4026 - accuracy: 0.8341\n",
            "Epoch 30/100\n",
            "1600/1600 [==============================] - 1s 887us/step - loss: 0.4027 - accuracy: 0.8353\n",
            "Epoch 31/100\n",
            "1600/1600 [==============================] - 1s 906us/step - loss: 0.4025 - accuracy: 0.8349\n",
            "Epoch 32/100\n",
            "1600/1600 [==============================] - 1s 894us/step - loss: 0.4018 - accuracy: 0.8345\n",
            "Epoch 33/100\n",
            "1600/1600 [==============================] - 1s 887us/step - loss: 0.4022 - accuracy: 0.8351\n",
            "Epoch 34/100\n",
            "1600/1600 [==============================] - 1s 883us/step - loss: 0.4024 - accuracy: 0.8345\n",
            "Epoch 35/100\n",
            "1600/1600 [==============================] - 1s 900us/step - loss: 0.4020 - accuracy: 0.8371\n",
            "Epoch 36/100\n",
            "1600/1600 [==============================] - 1s 882us/step - loss: 0.4018 - accuracy: 0.8344\n",
            "Epoch 37/100\n",
            "1600/1600 [==============================] - 1s 874us/step - loss: 0.4018 - accuracy: 0.8369\n",
            "Epoch 38/100\n",
            "1600/1600 [==============================] - 1s 898us/step - loss: 0.4014 - accuracy: 0.8335\n",
            "Epoch 39/100\n",
            "1600/1600 [==============================] - 1s 907us/step - loss: 0.4017 - accuracy: 0.8346\n",
            "Epoch 40/100\n",
            "1600/1600 [==============================] - 1s 902us/step - loss: 0.4019 - accuracy: 0.8354\n",
            "Epoch 41/100\n",
            "1600/1600 [==============================] - 1s 866us/step - loss: 0.4018 - accuracy: 0.8350\n",
            "Epoch 42/100\n",
            "1600/1600 [==============================] - 1s 875us/step - loss: 0.4019 - accuracy: 0.8329\n",
            "Epoch 43/100\n",
            "1600/1600 [==============================] - 2s 940us/step - loss: 0.4013 - accuracy: 0.8351\n",
            "Epoch 44/100\n",
            "1600/1600 [==============================] - 2s 1ms/step - loss: 0.4020 - accuracy: 0.8356\n",
            "Epoch 45/100\n",
            "1600/1600 [==============================] - 2s 1ms/step - loss: 0.4017 - accuracy: 0.8353\n",
            "Epoch 46/100\n",
            "1600/1600 [==============================] - 2s 1ms/step - loss: 0.4017 - accuracy: 0.8353\n",
            "Epoch 47/100\n",
            "1600/1600 [==============================] - 1s 929us/step - loss: 0.4008 - accuracy: 0.8356\n",
            "Epoch 48/100\n",
            "1600/1600 [==============================] - 1s 890us/step - loss: 0.4017 - accuracy: 0.8340\n",
            "Epoch 49/100\n",
            "1600/1600 [==============================] - 1s 877us/step - loss: 0.4007 - accuracy: 0.8328\n",
            "Epoch 50/100\n",
            "1600/1600 [==============================] - 1s 899us/step - loss: 0.4016 - accuracy: 0.8347\n",
            "Epoch 51/100\n",
            "1600/1600 [==============================] - 1s 906us/step - loss: 0.4012 - accuracy: 0.8356\n",
            "Epoch 52/100\n",
            "1600/1600 [==============================] - 1s 891us/step - loss: 0.4017 - accuracy: 0.8367\n",
            "Epoch 53/100\n",
            "1600/1600 [==============================] - 1s 871us/step - loss: 0.4011 - accuracy: 0.8350\n",
            "Epoch 54/100\n",
            "1600/1600 [==============================] - 1s 895us/step - loss: 0.4007 - accuracy: 0.8347\n",
            "Epoch 55/100\n",
            "1600/1600 [==============================] - 1s 895us/step - loss: 0.4003 - accuracy: 0.8357\n",
            "Epoch 56/100\n",
            "1600/1600 [==============================] - 1s 902us/step - loss: 0.4013 - accuracy: 0.8347\n",
            "Epoch 57/100\n",
            "1600/1600 [==============================] - 1s 905us/step - loss: 0.4008 - accuracy: 0.8363\n",
            "Epoch 58/100\n",
            "1600/1600 [==============================] - 1s 879us/step - loss: 0.4010 - accuracy: 0.8360\n",
            "Epoch 59/100\n",
            "1600/1600 [==============================] - 1s 888us/step - loss: 0.4010 - accuracy: 0.8340\n",
            "Epoch 60/100\n",
            "1600/1600 [==============================] - 1s 906us/step - loss: 0.4008 - accuracy: 0.8346\n",
            "Epoch 61/100\n",
            "1600/1600 [==============================] - 1s 907us/step - loss: 0.4008 - accuracy: 0.8359\n",
            "Epoch 62/100\n",
            "1600/1600 [==============================] - 1s 869us/step - loss: 0.4011 - accuracy: 0.8364\n",
            "Epoch 63/100\n",
            "1600/1600 [==============================] - 1s 870us/step - loss: 0.4014 - accuracy: 0.8349\n",
            "Epoch 64/100\n",
            "1600/1600 [==============================] - 1s 878us/step - loss: 0.4008 - accuracy: 0.8353\n",
            "Epoch 65/100\n",
            "1600/1600 [==============================] - 1s 884us/step - loss: 0.4007 - accuracy: 0.8341\n",
            "Epoch 66/100\n",
            "1600/1600 [==============================] - 1s 924us/step - loss: 0.4004 - accuracy: 0.8353\n",
            "Epoch 67/100\n",
            "1600/1600 [==============================] - 1s 874us/step - loss: 0.4005 - accuracy: 0.8367\n",
            "Epoch 68/100\n",
            "1600/1600 [==============================] - 1s 881us/step - loss: 0.4009 - accuracy: 0.8359\n",
            "Epoch 69/100\n",
            "1600/1600 [==============================] - 1s 920us/step - loss: 0.4006 - accuracy: 0.8350\n",
            "Epoch 70/100\n",
            "1600/1600 [==============================] - 1s 896us/step - loss: 0.4010 - accuracy: 0.8357\n",
            "Epoch 71/100\n",
            "1600/1600 [==============================] - 1s 897us/step - loss: 0.4000 - accuracy: 0.8375\n",
            "Epoch 72/100\n",
            "1600/1600 [==============================] - 1s 857us/step - loss: 0.4005 - accuracy: 0.8349\n",
            "Epoch 73/100\n",
            "1600/1600 [==============================] - 1s 877us/step - loss: 0.4003 - accuracy: 0.8354\n",
            "Epoch 74/100\n",
            "1600/1600 [==============================] - 1s 879us/step - loss: 0.4008 - accuracy: 0.8367\n",
            "Epoch 75/100\n",
            "1600/1600 [==============================] - 1s 895us/step - loss: 0.4008 - accuracy: 0.8364\n",
            "Epoch 76/100\n",
            "1600/1600 [==============================] - 1s 908us/step - loss: 0.4005 - accuracy: 0.8353\n",
            "Epoch 77/100\n",
            "1600/1600 [==============================] - 1s 873us/step - loss: 0.3999 - accuracy: 0.8366\n",
            "Epoch 78/100\n",
            "1600/1600 [==============================] - 1s 887us/step - loss: 0.3996 - accuracy: 0.8359\n",
            "Epoch 79/100\n",
            "1600/1600 [==============================] - 1s 891us/step - loss: 0.4014 - accuracy: 0.8351\n",
            "Epoch 80/100\n",
            "1600/1600 [==============================] - 1s 868us/step - loss: 0.4005 - accuracy: 0.8346\n",
            "Epoch 81/100\n",
            "1600/1600 [==============================] - 1s 883us/step - loss: 0.4000 - accuracy: 0.8357\n",
            "Epoch 82/100\n",
            "1600/1600 [==============================] - 1s 908us/step - loss: 0.4009 - accuracy: 0.8376\n",
            "Epoch 83/100\n",
            "1600/1600 [==============================] - 1s 879us/step - loss: 0.3998 - accuracy: 0.8363\n",
            "Epoch 84/100\n",
            "1600/1600 [==============================] - 1s 896us/step - loss: 0.4003 - accuracy: 0.8354\n",
            "Epoch 85/100\n",
            "1600/1600 [==============================] - 1s 894us/step - loss: 0.4007 - accuracy: 0.8374\n",
            "Epoch 86/100\n",
            "1600/1600 [==============================] - 2s 963us/step - loss: 0.4007 - accuracy: 0.8344\n",
            "Epoch 87/100\n",
            "1600/1600 [==============================] - 1s 894us/step - loss: 0.4002 - accuracy: 0.8357\n",
            "Epoch 88/100\n",
            "1600/1600 [==============================] - 1s 900us/step - loss: 0.4001 - accuracy: 0.8351\n",
            "Epoch 89/100\n",
            "1600/1600 [==============================] - 1s 888us/step - loss: 0.4005 - accuracy: 0.8355\n",
            "Epoch 90/100\n",
            "1600/1600 [==============================] - 1s 925us/step - loss: 0.4002 - accuracy: 0.8357\n",
            "Epoch 91/100\n",
            "1600/1600 [==============================] - 1s 891us/step - loss: 0.3999 - accuracy: 0.8359\n",
            "Epoch 92/100\n",
            "1600/1600 [==============================] - 1s 909us/step - loss: 0.3995 - accuracy: 0.8374\n",
            "Epoch 93/100\n",
            "1600/1600 [==============================] - 1s 877us/step - loss: 0.4005 - accuracy: 0.8370\n",
            "Epoch 94/100\n",
            "1600/1600 [==============================] - 1s 897us/step - loss: 0.4003 - accuracy: 0.8372\n",
            "Epoch 95/100\n",
            "1600/1600 [==============================] - 1s 906us/step - loss: 0.4004 - accuracy: 0.8350\n",
            "Epoch 96/100\n",
            "1600/1600 [==============================] - 1s 890us/step - loss: 0.4004 - accuracy: 0.8361\n",
            "Epoch 97/100\n",
            "1600/1600 [==============================] - 1s 889us/step - loss: 0.3998 - accuracy: 0.8354\n",
            "Epoch 98/100\n",
            "1600/1600 [==============================] - 1s 902us/step - loss: 0.4000 - accuracy: 0.8374\n",
            "Epoch 99/100\n",
            "1600/1600 [==============================] - 1s 897us/step - loss: 0.4002 - accuracy: 0.8355\n",
            "Epoch 100/100\n",
            "1600/1600 [==============================] - 1s 889us/step - loss: 0.4003 - accuracy: 0.8355\n"
          ],
          "name": "stdout"
        },
        {
          "output_type": "execute_result",
          "data": {
            "text/plain": [
              "<tensorflow.python.keras.callbacks.History at 0x7f6126f90dd8>"
            ]
          },
          "metadata": {
            "tags": []
          },
          "execution_count": 21
        }
      ]
    },
    {
      "cell_type": "markdown",
      "metadata": {
        "id": "VA7Z-QfgbAIf",
        "colab_type": "text"
      },
      "source": [
        "**Part 3 - Predictions and Evaluate the model**"
      ]
    },
    {
      "cell_type": "markdown",
      "metadata": {
        "id": "4AyYZE0IbCnE",
        "colab_type": "text"
      },
      "source": [
        "**Predicting the test set results**"
      ]
    },
    {
      "cell_type": "code",
      "metadata": {
        "id": "_M5NAyR7bFHO",
        "colab_type": "code",
        "colab": {}
      },
      "source": [
        "y_pred = classifier.predict(X_test)\n",
        "y_pred = (y_pred > 0.5)"
      ],
      "execution_count": 22,
      "outputs": []
    },
    {
      "cell_type": "markdown",
      "metadata": {
        "id": "x5R_oQORbH5S",
        "colab_type": "text"
      },
      "source": [
        "**Making the confusion matrix**"
      ]
    },
    {
      "cell_type": "code",
      "metadata": {
        "id": "gYEZq80cbKkU",
        "colab_type": "code",
        "colab": {
          "base_uri": "https://localhost:8080/",
          "height": 51
        },
        "outputId": "16babc2f-8de3-46fd-f43f-c0fc89420791"
      },
      "source": [
        "from sklearn.metrics import confusion_matrix\n",
        "cm = confusion_matrix(y_test, y_pred)\n",
        "print(cm)"
      ],
      "execution_count": 24,
      "outputs": [
        {
          "output_type": "stream",
          "text": [
            "[[1549   36]\n",
            " [ 292  123]]\n"
          ],
          "name": "stdout"
        }
      ]
    }
  ]
}